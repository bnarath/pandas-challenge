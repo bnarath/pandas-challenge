{
 "cells": [
  {
   "cell_type": "code",
   "execution_count": 1,
   "metadata": {},
   "outputs": [],
   "source": [
    "# To display all outputs in a cell\n",
    "from IPython.core.interactiveshell import InteractiveShell\n",
    "InteractiveShell.ast_node_interactivity = 'all'"
   ]
  },
  {
   "cell_type": "code",
   "execution_count": 40,
   "metadata": {},
   "outputs": [],
   "source": [
    "# Dependencies and Setup\n",
    "import pandas as pd\n",
    "import numpy as np\n",
    "\n",
    "# File to Load (Remember to Change These)\n",
    "school_data_to_load = \"Resources/schools_complete.csv\"\n",
    "student_data_to_load = \"Resources/students_complete.csv\"\n",
    "\n",
    "# Read School and Student Data File and store into Pandas DataFrames\n",
    "school_data = pd.read_csv(school_data_to_load)\n",
    "student_data = pd.read_csv(student_data_to_load)\n",
    "\n",
    "# Combine the data into a single dataset.  \n",
    "school_data_complete = pd.merge(student_data, school_data, how=\"left\", on=[\"school_name\", \"school_name\"])"
   ]
  },
  {
   "cell_type": "markdown",
   "metadata": {},
   "source": [
    "## District Summary\n",
    "\n",
    "* Calculate the total number of schools\n",
    "\n",
    "* Calculate the total number of students\n",
    "\n",
    "* Calculate the total budget\n",
    "\n",
    "* Calculate the average math score \n",
    "\n",
    "* Calculate the average reading score\n",
    "\n",
    "* Calculate the percentage of students with a passing math score (70 or greater)\n",
    "\n",
    "* Calculate the percentage of students with a passing reading score (70 or greater)\n",
    "\n",
    "* Calculate the percentage of students who passed math **and** reading (% Overall Passing)\n",
    "\n",
    "* Create a dataframe to hold the above results\n",
    "\n",
    "* Optional: give the displayed data cleaner formatting"
   ]
  },
  {
   "cell_type": "code",
   "execution_count": 122,
   "metadata": {},
   "outputs": [
    {
     "data": {
      "text/html": [
       "<div>\n",
       "<style scoped>\n",
       "    .dataframe tbody tr th:only-of-type {\n",
       "        vertical-align: middle;\n",
       "    }\n",
       "\n",
       "    .dataframe tbody tr th {\n",
       "        vertical-align: top;\n",
       "    }\n",
       "\n",
       "    .dataframe thead th {\n",
       "        text-align: right;\n",
       "    }\n",
       "</style>\n",
       "<table border=\"1\" class=\"dataframe\">\n",
       "  <thead>\n",
       "    <tr style=\"text-align: right;\">\n",
       "      <th></th>\n",
       "      <th>Total Schools</th>\n",
       "      <th>Total Students</th>\n",
       "      <th>Total Budget</th>\n",
       "      <th>Average Math Score</th>\n",
       "      <th>Average Reading Score</th>\n",
       "      <th>% Passing Math</th>\n",
       "      <th>% Passing Reading</th>\n",
       "      <th>% Overall Passing</th>\n",
       "    </tr>\n",
       "  </thead>\n",
       "  <tbody>\n",
       "    <tr>\n",
       "      <th>0</th>\n",
       "      <td>15</td>\n",
       "      <td>39,170</td>\n",
       "      <td>$24,649,428.00</td>\n",
       "      <td>78.985371</td>\n",
       "      <td>81.87784</td>\n",
       "      <td>74.980853</td>\n",
       "      <td>85.805463</td>\n",
       "      <td>65.172326</td>\n",
       "    </tr>\n",
       "  </tbody>\n",
       "</table>\n",
       "</div>"
      ],
      "text/plain": [
       "  Total Schools Total Students    Total Budget  Average Math Score  \\\n",
       "0            15         39,170  $24,649,428.00           78.985371   \n",
       "\n",
       "   Average Reading Score  % Passing Math  % Passing Reading  % Overall Passing  \n",
       "0               81.87784       74.980853          85.805463          65.172326  "
      ]
     },
     "execution_count": 122,
     "metadata": {},
     "output_type": "execute_result"
    }
   ],
   "source": [
    "#Note: School ID is the unique identifier for a student NOT the name (There are many students of the same name)\n",
    "#Each school has a Budget\n",
    "#Aggregate the dataframes to get the mean, sum, and unique counts\n",
    "#Query DF with specific condition and then aggregate to get the unique counts\n",
    "#Store in a DF, add proper column names\n",
    "# Appropriate Display\n",
    "# Beautify Display\n",
    "\n",
    "#Construct a 1 column DF with required values as rows\n",
    "District_Summary = pd.DataFrame(\\\n",
    "pd.concat([school_data_complete.aggregate({'School ID':'nunique', 'Student ID':'nunique', 'math_score':'mean', 'reading_score':'mean'}),\\\n",
    "pd.Series([school_data_complete.groupby(['School ID'] ).agg({'budget':'first'}).sum()[0],\\\n",
    "         100*school_data_complete.query('math_score >= 70')['School ID'].aggregate('count', axis=0)/school_data_complete.shape[0],\\\n",
    "         100*school_data_complete.query('reading_score >= 70')['School ID'].aggregate('count', axis=0)/school_data_complete.shape[0],\\\n",
    "         100*school_data_complete.query('math_score >= 70 & reading_score >= 70')['School ID'].aggregate('count', axis=0)/school_data_complete.shape[0]])]).reset_index(drop=True))\n",
    "\n",
    "#Take transform\n",
    "District_Summary = District_Summary.T\n",
    "#Change Column names\n",
    "District_Summary.columns = ['Total Schools','Total Students', 'Average Math Score', 'Average Reading Score','Total Budget', '% Passing Math','% Passing Reading','% Overall Passing']\n",
    "\n",
    "#Change the order of the columns for display\n",
    "District_Summary = District_Summary[['Total Schools','Total Students', 'Total Budget','Average Math Score', 'Average Reading Score', '% Passing Math','% Passing Reading','% Overall Passing']]\n",
    "#Formatting for display for the required columns\n",
    "District_Summary.loc[:, ['Total Schools', 'Total Students', 'Total Budget']] = District_Summary.apply({'Total Schools': lambda x: \"{:,.0f}\".format(x), 'Total Students': lambda x: \"{:,.0f}\".format(x), 'Total Budget': lambda x: \"${:,.2f}\".format(x)})\n",
    "\n",
    "District_Summary\n",
    "\n"
   ]
  },
  {
   "cell_type": "code",
   "execution_count": null,
   "metadata": {},
   "outputs": [],
   "source": []
  }
 ],
 "metadata": {
  "kernelspec": {
   "display_name": "Python 3",
   "language": "python",
   "name": "python3"
  },
  "language_info": {
   "codemirror_mode": {
    "name": "ipython",
    "version": 3
   },
   "file_extension": ".py",
   "mimetype": "text/x-python",
   "name": "python",
   "nbconvert_exporter": "python",
   "pygments_lexer": "ipython3",
   "version": "3.8.1"
  }
 },
 "nbformat": 4,
 "nbformat_minor": 2
}
